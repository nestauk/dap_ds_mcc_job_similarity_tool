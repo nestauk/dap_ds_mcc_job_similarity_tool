{
 "cells": [
  {
   "cell_type": "markdown",
   "id": "ed63ad2d",
   "metadata": {},
   "source": [
    "Test basic funcitons"
   ]
  },
  {
   "cell_type": "code",
   "execution_count": 1,
   "id": "d34eb438",
   "metadata": {},
   "outputs": [
    {
     "name": "stdout",
     "output_type": "stream",
     "text": [
      "/Users/enricogavagnin/dap_ds_mcc_job_similarity_tool\n"
     ]
    }
   ],
   "source": [
    "cd ~/dap_ds_mcc_job_similarity_tool/"
   ]
  },
  {
   "cell_type": "code",
   "execution_count": 2,
   "id": "6f9fbf3b",
   "metadata": {},
   "outputs": [],
   "source": [
    "from backend.getters.data_loader import *\n",
    "from nesta_ds_utils.loading_saving import S3"
   ]
  },
  {
   "cell_type": "code",
   "execution_count": 3,
   "id": "e91c5da4",
   "metadata": {},
   "outputs": [],
   "source": [
    "from backend.pipelines.build_job_similarity import build_and_upload"
   ]
  },
  {
   "cell_type": "code",
   "execution_count": 4,
   "id": "fc4b7b13",
   "metadata": {},
   "outputs": [
    {
     "name": "stdout",
     "output_type": "stream",
     "text": [
      "0\n",
      "1\n",
      "2\n",
      "3\n",
      "4\n",
      "5\n",
      "6\n",
      "7\n",
      "8\n",
      "9\n"
     ]
    }
   ],
   "source": [
    "build_and_upload()"
   ]
  },
  {
   "cell_type": "code",
   "execution_count": null,
   "id": "b2269ca1",
   "metadata": {},
   "outputs": [],
   "source": []
  }
 ],
 "metadata": {
  "kernelspec": {
   "display_name": "Python 3 (ipykernel)",
   "language": "python",
   "name": "python3"
  },
  "language_info": {
   "codemirror_mode": {
    "name": "ipython",
    "version": 3
   },
   "file_extension": ".py",
   "mimetype": "text/x-python",
   "name": "python",
   "nbconvert_exporter": "python",
   "pygments_lexer": "ipython3",
   "version": "3.8.16"
  }
 },
 "nbformat": 4,
 "nbformat_minor": 5
}
